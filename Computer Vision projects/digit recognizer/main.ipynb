{
 "cells": [
  {
   "cell_type": "code",
   "execution_count": 1,
   "source": [
    "import keras\r\n",
    "from keras.datasets import mnist\r\n",
    "from keras.models import Sequential\r\n",
    "from keras.layers import Dense, Dropout, Flatten\r\n",
    "from keras.layers import Conv2D, MaxPooling2D, MaxPool2D\r\n",
    "from keras import backend as k\r\n",
    "\r\n",
    "# the data, split between train and test sets\r\n",
    "(x_train,y_train),(x_test,y_test) = mnist.load_data()\r\n",
    "\r\n",
    "print(x_train.shape,y_train.shape,x_test.shape,y_test.shape)"
   ],
   "outputs": [
    {
     "output_type": "stream",
     "name": "stdout",
     "text": [
      "(60000, 28, 28) (60000,) (10000, 28, 28) (10000,)\n"
     ]
    }
   ],
   "metadata": {}
  },
  {
   "cell_type": "code",
   "execution_count": 2,
   "source": [
    "x_train = x_train.reshape(x_train.shape[0],28,28,1)\r\n",
    "x_test = x_test.reshape(x_test.shape[0],28,28,1)\r\n",
    "input_shape = (28,28,1)\r\n",
    "num_classes = 10\r\n",
    "\r\n",
    "# convert class vectors to binary class matrices\r\n",
    "y_train = keras.utils.to_categorical(y_train,num_classes)\r\n",
    "y_test = keras.utils.to_categorical(y_test,num_classes)\r\n",
    "\r\n",
    "x_train = x_train.astype('float32')\r\n",
    "x_test = x_test.astype('float32')\r\n",
    "x_train /= 255\r\n",
    "x_test /= 255\r\n",
    "print(\"x_train shape :\", x_train.shape)\r\n",
    "print(x_train.shape[0], 'train samples')\r\n",
    "print(x_test.shape[0],'test samples')"
   ],
   "outputs": [
    {
     "output_type": "stream",
     "name": "stdout",
     "text": [
      "x_train shape : (60000, 28, 28, 1)\n",
      "60000 train samples\n",
      "10000 test samples\n"
     ]
    }
   ],
   "metadata": {}
  },
  {
   "cell_type": "code",
   "execution_count": 5,
   "source": [
    "batch_size = 128\r\n",
    "epochs =15\r\n",
    "\r\n",
    "model = Sequential()\r\n",
    "model.add(Conv2D(32, kernel_size =(3,3),activation ='relu',input_shape = input_shape))\r\n",
    "model.add(Conv2D(64, kernel_size =(3,3),activation ='relu'))\r\n",
    "model.add(MaxPooling2D(pool_size=(2,2)))\r\n",
    "model.add(Conv2D(32,kernel_size =(3,3),activation='relu'))\r\n",
    "model.add(MaxPooling2D(pool_size=(2,2)))\r\n",
    "model.add(Dropout(0.25))\r\n",
    "model.add(Flatten())\r\n",
    "model.add(Dense(256,activation='relu'))\r\n",
    "model.add(Dropout(0.5))\r\n",
    "model.add(Dense(num_classes,activation='softmax'))\r\n",
    "\r\n",
    "model.compile(loss =keras.losses.categorical_crossentropy,optimizer= keras.optimizers.Adadelta(),metrics =['accuracy'])"
   ],
   "outputs": [],
   "metadata": {}
  },
  {
   "cell_type": "code",
   "execution_count": 6,
   "source": [
    "digit = model.fit(x_train,y_train,batch_size=batch_size,epochs=epochs,verbose=1,validation_data=(x_test, y_test))\r\n",
    "print(\"The model has successfully trained\")"
   ],
   "outputs": [
    {
     "output_type": "stream",
     "name": "stdout",
     "text": [
      "Epoch 1/15\n",
      "469/469 [==============================] - 108s 227ms/step - loss: 2.3000 - accuracy: 0.1122 - val_loss: 2.2810 - val_accuracy: 0.2141\n",
      "Epoch 2/15\n",
      "469/469 [==============================] - 110s 234ms/step - loss: 2.2852 - accuracy: 0.1366 - val_loss: 2.2637 - val_accuracy: 0.2822\n",
      "Epoch 3/15\n",
      "469/469 [==============================] - 95s 203ms/step - loss: 2.2696 - accuracy: 0.1631 - val_loss: 2.2444 - val_accuracy: 0.3557\n",
      "Epoch 4/15\n",
      "469/469 [==============================] - 98s 209ms/step - loss: 2.2533 - accuracy: 0.1884 - val_loss: 2.2218 - val_accuracy: 0.4229\n",
      "Epoch 5/15\n",
      "469/469 [==============================] - 95s 204ms/step - loss: 2.2330 - accuracy: 0.2159 - val_loss: 2.1948 - val_accuracy: 0.4815\n",
      "Epoch 6/15\n",
      "469/469 [==============================] - 98s 209ms/step - loss: 2.2092 - accuracy: 0.2422 - val_loss: 2.1620 - val_accuracy: 0.5374\n",
      "Epoch 7/15\n",
      "469/469 [==============================] - 98s 209ms/step - loss: 2.1822 - accuracy: 0.2675 - val_loss: 2.1223 - val_accuracy: 0.5850\n",
      "Epoch 8/15\n",
      "469/469 [==============================] - 107s 229ms/step - loss: 2.1492 - accuracy: 0.2891 - val_loss: 2.0743 - val_accuracy: 0.6242\n",
      "Epoch 9/15\n",
      "141/469 [========>.....................] - ETA: 1:07 - loss: 2.1165 - accuracy: 0.31"
     ]
    }
   ],
   "metadata": {}
  },
  {
   "cell_type": "code",
   "execution_count": null,
   "source": [
    "model1 = Sequential()\r\n",
    "\r\n",
    "model1.add(Conv2D(filters = 32, kernel_size = (5,5),padding = 'Same', \r\n",
    "                 activation ='relu', input_shape = (28,28,1)))\r\n",
    "model1.add(Conv2D(filters = 32, kernel_size = (5,5),padding = 'Same', \r\n",
    "                 activation ='relu'))\r\n",
    "model1.add(MaxPool2D(pool_size=(2,2)))\r\n",
    "model1.add(Dropout(0.25))\r\n",
    "\r\n",
    "\r\n",
    "model1.add(Conv2D(filters = 64, kernel_size = (3,3),padding = 'Same', \r\n",
    "                 activation ='relu'))\r\n",
    "model1.add(Conv2D(filters = 64, kernel_size = (3,3),padding = 'Same', \r\n",
    "                 activation ='relu'))\r\n",
    "model1.add(MaxPool2D(pool_size=(2,2), strides=(2,2)))\r\n",
    "model1.add(Dropout(0.25))\r\n",
    "\r\n",
    "\r\n",
    "model1.add(Flatten())\r\n",
    "model1.add(Dense(256, activation = \"relu\"))\r\n",
    "model1.add(Dropout(0.5))\r\n",
    "model1.add(Dense(10, activation = \"softmax\"))\r\n",
    "\r\n",
    "optimizer = keras.optimizers.RMSprop(lr=0.001, rho=0.9, epsilon=1e-08, decay=0.0)\r\n",
    "# Compile the model\r\n",
    "model1.compile(optimizer = optimizer , loss = \"categorical_crossentropy\", metrics=[\"accuracy\"])\r\n",
    "\r\n",
    "# Set a learning rate annealer\r\n",
    "learning_rate_reduction = ReduceLROnPlateau(monitor='val_acc', \r\n",
    "                                            patience=3, \r\n",
    "                                            verbose=1, \r\n",
    "                                            factor=0.5, \r\n",
    "                                            min_lr=0.00001)\r\n",
    "epochs = 30\r\n",
    "batch_size = 86"
   ],
   "outputs": [],
   "metadata": {}
  },
  {
   "cell_type": "code",
   "execution_count": null,
   "source": [
    "digit1 = model1.fit(x_train,y_train,batch_size=batch_size,epochs=epochs,verbose=1,validation_data=(x_test, y_test))\r\n",
    "print(\"The model has successfully trained\")"
   ],
   "outputs": [],
   "metadata": {}
  }
 ],
 "metadata": {
  "orig_nbformat": 4,
  "language_info": {
   "name": "python",
   "version": "3.6.12",
   "mimetype": "text/x-python",
   "codemirror_mode": {
    "name": "ipython",
    "version": 3
   },
   "pygments_lexer": "ipython3",
   "nbconvert_exporter": "python",
   "file_extension": ".py"
  },
  "kernelspec": {
   "name": "python3",
   "display_name": "Python 3.6.12 64-bit ('fidrox': conda)"
  },
  "interpreter": {
   "hash": "ecb7381559138e51a33593dc777552916b928bdcfe8ead0ccdfaf5910052deb6"
  }
 },
 "nbformat": 4,
 "nbformat_minor": 2
}