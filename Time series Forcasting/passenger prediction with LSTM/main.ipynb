{
 "cells": [
  {
   "cell_type": "markdown",
   "metadata": {},
   "source": [
    "# Time series Using LSTM"
   ]
  },
  {
   "cell_type": "code",
   "execution_count": 18,
   "metadata": {},
   "outputs": [],
   "source": [
    "import numpy as np\r\n",
    "import pandas as pd\r\n",
    "import math\r\n",
    "from keras.models import Sequential\r\n",
    "from keras.layers import Dense, LSTM\r\n",
    "from sklearn.preprocessing import MinMaxScaler\r\n",
    "from sklearn.metrics import  mean_squared_error\r\n",
    "# fix random seed\r\n",
    "np.random.seed(123)"
   ]
  },
  {
   "cell_type": "markdown",
   "metadata": {},
   "source": [
    "load the dataset"
   ]
  },
  {
   "cell_type": "code",
   "execution_count": 19,
   "metadata": {},
   "outputs": [],
   "source": [
    "data  = pd.read_csv('./data/airlines-passenger.csv',usecols=[1],engine='python')\r\n",
    "dataset = data.values\r\n",
    "dataset = dataset.astype('float32')"
   ]
  },
  {
   "cell_type": "code",
   "execution_count": 20,
   "metadata": {},
   "outputs": [],
   "source": [
    "# normalize the dataset\r\n",
    "scale = MinMaxScaler(feature_range=(0,1))\r\n",
    "dataset = scale.fit_transform(dataset)"
   ]
  },
  {
   "cell_type": "markdown",
   "metadata": {},
   "source": [
    "Lets split the dataset into training and test set"
   ]
  },
  {
   "cell_type": "code",
   "execution_count": 21,
   "metadata": {},
   "outputs": [
    {
     "name": "stdout",
     "output_type": "stream",
     "text": [
      "100 44\n"
     ]
    }
   ],
   "source": [
    "# split the dataset\r\n",
    "train_size = int(len(dataset) * 0.70)\r\n",
    "test_size = len(dataset) - train_size\r\n",
    "train, test = dataset[0:train_size,:], dataset[train_size:len(dataset),:]\r\n",
    "print(len(train), len(test))"
   ]
  },
  {
   "cell_type": "markdown",
   "metadata": {},
   "source": [
    "Prepare the dataset to fit the LSTM model"
   ]
  },
  {
   "cell_type": "code",
   "execution_count": 25,
   "metadata": {},
   "outputs": [],
   "source": [
    "# convert an array of values into dataset matrix\r\n",
    "def create_dataset(dataset, lb=1):\r\n",
    "    X, Y = [], []\r\n",
    "    for i in range(len(dataset)-lb-1):\r\n",
    "        a = dataset[i:(i+lb), 0]\r\n",
    "        X.append(a)\r\n",
    "        Y.append(dataset[i + lb, 0])\r\n",
    "    return np.array(X), np.array(Y)"
   ]
  },
  {
   "cell_type": "code",
   "execution_count": 26,
   "metadata": {},
   "outputs": [],
   "source": [
    "# reshape the data into X=t and Y=t+1\r\n",
    "train_x,train_y = create_dataset(dataset)\r\n",
    "test_x,test_y= create_dataset(dataset)"
   ]
  },
  {
   "cell_type": "code",
   "execution_count": 27,
   "metadata": {},
   "outputs": [],
   "source": [
    "# reshape the intput to be [samples, time steps, features]\r\n",
    "train_x = np.reshape(train_x, (train_x.shape[0], 1, train_x.shape[1]))\r\n",
    "test_x = np.reshape(test_x, (test_x.shape[0], 1, test_x.shape[1]))"
   ]
  },
  {
   "cell_type": "code",
   "execution_count": 28,
   "metadata": {},
   "outputs": [
    {
     "name": "stdout",
     "output_type": "stream",
     "text": [
      "Epoch 1/100\n",
      "142/142 - 2s - loss: 0.0970\n",
      "Epoch 2/100\n",
      "142/142 - 0s - loss: 0.0441\n",
      "Epoch 3/100\n",
      "142/142 - 0s - loss: 0.0306\n",
      "Epoch 4/100\n",
      "142/142 - 0s - loss: 0.0262\n",
      "Epoch 5/100\n",
      "142/142 - 0s - loss: 0.0225\n",
      "Epoch 6/100\n",
      "142/142 - 0s - loss: 0.0185\n",
      "Epoch 7/100\n",
      "142/142 - 0s - loss: 0.0147\n",
      "Epoch 8/100\n",
      "142/142 - 0s - loss: 0.0112\n",
      "Epoch 9/100\n",
      "142/142 - 0s - loss: 0.0085\n",
      "Epoch 10/100\n",
      "142/142 - 0s - loss: 0.0065\n",
      "Epoch 11/100\n",
      "142/142 - 0s - loss: 0.0053\n",
      "Epoch 12/100\n",
      "142/142 - 0s - loss: 0.0047\n",
      "Epoch 13/100\n",
      "142/142 - 0s - loss: 0.0045\n",
      "Epoch 14/100\n",
      "142/142 - 0s - loss: 0.0043\n",
      "Epoch 15/100\n",
      "142/142 - 0s - loss: 0.0042\n",
      "Epoch 16/100\n",
      "142/142 - 0s - loss: 0.0042\n",
      "Epoch 17/100\n",
      "142/142 - 0s - loss: 0.0043\n",
      "Epoch 18/100\n",
      "142/142 - 0s - loss: 0.0043\n",
      "Epoch 19/100\n",
      "142/142 - 0s - loss: 0.0042\n",
      "Epoch 20/100\n",
      "142/142 - 0s - loss: 0.0042\n",
      "Epoch 21/100\n",
      "142/142 - 0s - loss: 0.0043\n",
      "Epoch 22/100\n",
      "142/142 - 0s - loss: 0.0043\n",
      "Epoch 23/100\n",
      "142/142 - 0s - loss: 0.0042\n",
      "Epoch 24/100\n",
      "142/142 - 0s - loss: 0.0042\n",
      "Epoch 25/100\n",
      "142/142 - 0s - loss: 0.0042\n",
      "Epoch 26/100\n",
      "142/142 - 0s - loss: 0.0042\n",
      "Epoch 27/100\n",
      "142/142 - 0s - loss: 0.0042\n",
      "Epoch 28/100\n",
      "142/142 - 0s - loss: 0.0042\n",
      "Epoch 29/100\n",
      "142/142 - 0s - loss: 0.0043\n",
      "Epoch 30/100\n",
      "142/142 - 0s - loss: 0.0042\n",
      "Epoch 31/100\n",
      "142/142 - 0s - loss: 0.0042\n",
      "Epoch 32/100\n",
      "142/142 - 0s - loss: 0.0042\n",
      "Epoch 33/100\n",
      "142/142 - 0s - loss: 0.0043\n",
      "Epoch 34/100\n",
      "142/142 - 0s - loss: 0.0042\n",
      "Epoch 35/100\n",
      "142/142 - 0s - loss: 0.0042\n",
      "Epoch 36/100\n",
      "142/142 - 0s - loss: 0.0041\n",
      "Epoch 37/100\n",
      "142/142 - 0s - loss: 0.0041\n",
      "Epoch 38/100\n",
      "142/142 - 0s - loss: 0.0042\n",
      "Epoch 39/100\n",
      "142/142 - 0s - loss: 0.0043\n",
      "Epoch 40/100\n",
      "142/142 - 0s - loss: 0.0043\n",
      "Epoch 41/100\n",
      "142/142 - 0s - loss: 0.0042\n",
      "Epoch 42/100\n",
      "142/142 - 0s - loss: 0.0041\n",
      "Epoch 43/100\n",
      "142/142 - 0s - loss: 0.0041\n",
      "Epoch 44/100\n",
      "142/142 - 0s - loss: 0.0042\n",
      "Epoch 45/100\n",
      "142/142 - 0s - loss: 0.0042\n",
      "Epoch 46/100\n",
      "142/142 - 0s - loss: 0.0043\n",
      "Epoch 47/100\n",
      "142/142 - 0s - loss: 0.0042\n",
      "Epoch 48/100\n",
      "142/142 - 0s - loss: 0.0041\n",
      "Epoch 49/100\n",
      "142/142 - 0s - loss: 0.0041\n",
      "Epoch 50/100\n",
      "142/142 - 0s - loss: 0.0041\n",
      "Epoch 51/100\n",
      "142/142 - 0s - loss: 0.0042\n",
      "Epoch 52/100\n",
      "142/142 - 0s - loss: 0.0042\n",
      "Epoch 53/100\n",
      "142/142 - 0s - loss: 0.0040\n",
      "Epoch 54/100\n",
      "142/142 - 0s - loss: 0.0040\n",
      "Epoch 55/100\n",
      "142/142 - 0s - loss: 0.0043\n",
      "Epoch 56/100\n",
      "142/142 - 0s - loss: 0.0042\n",
      "Epoch 57/100\n",
      "142/142 - 0s - loss: 0.0042\n",
      "Epoch 58/100\n",
      "142/142 - 0s - loss: 0.0041\n",
      "Epoch 59/100\n",
      "142/142 - 0s - loss: 0.0042\n",
      "Epoch 60/100\n",
      "142/142 - 0s - loss: 0.0040\n",
      "Epoch 61/100\n",
      "142/142 - 0s - loss: 0.0042\n",
      "Epoch 62/100\n",
      "142/142 - 0s - loss: 0.0041\n",
      "Epoch 63/100\n",
      "142/142 - 0s - loss: 0.0042\n",
      "Epoch 64/100\n",
      "142/142 - 0s - loss: 0.0041\n",
      "Epoch 65/100\n",
      "142/142 - 0s - loss: 0.0041\n",
      "Epoch 66/100\n",
      "142/142 - 0s - loss: 0.0041\n",
      "Epoch 67/100\n",
      "142/142 - 0s - loss: 0.0041\n",
      "Epoch 68/100\n",
      "142/142 - 0s - loss: 0.0041\n",
      "Epoch 69/100\n",
      "142/142 - 0s - loss: 0.0041\n",
      "Epoch 70/100\n",
      "142/142 - 0s - loss: 0.0041\n",
      "Epoch 71/100\n",
      "142/142 - 0s - loss: 0.0041\n",
      "Epoch 72/100\n",
      "142/142 - 0s - loss: 0.0041\n",
      "Epoch 73/100\n",
      "142/142 - 0s - loss: 0.0041\n",
      "Epoch 74/100\n",
      "142/142 - 0s - loss: 0.0041\n",
      "Epoch 75/100\n",
      "142/142 - 0s - loss: 0.0041\n",
      "Epoch 76/100\n",
      "142/142 - 0s - loss: 0.0042\n",
      "Epoch 77/100\n",
      "142/142 - 0s - loss: 0.0041\n",
      "Epoch 78/100\n",
      "142/142 - 0s - loss: 0.0042\n",
      "Epoch 79/100\n",
      "142/142 - 0s - loss: 0.0042\n",
      "Epoch 80/100\n",
      "142/142 - 0s - loss: 0.0040\n",
      "Epoch 81/100\n",
      "142/142 - 0s - loss: 0.0042\n",
      "Epoch 82/100\n",
      "142/142 - 0s - loss: 0.0042\n",
      "Epoch 83/100\n",
      "142/142 - 0s - loss: 0.0041\n",
      "Epoch 84/100\n",
      "142/142 - 0s - loss: 0.0041\n",
      "Epoch 85/100\n",
      "142/142 - 0s - loss: 0.0041\n",
      "Epoch 86/100\n",
      "142/142 - 0s - loss: 0.0040\n",
      "Epoch 87/100\n",
      "142/142 - 0s - loss: 0.0042\n",
      "Epoch 88/100\n",
      "142/142 - 0s - loss: 0.0041\n",
      "Epoch 89/100\n",
      "142/142 - 0s - loss: 0.0041\n",
      "Epoch 90/100\n",
      "142/142 - 0s - loss: 0.0041\n",
      "Epoch 91/100\n",
      "142/142 - 0s - loss: 0.0041\n",
      "Epoch 92/100\n",
      "142/142 - 0s - loss: 0.0041\n",
      "Epoch 93/100\n",
      "142/142 - 0s - loss: 0.0042\n",
      "Epoch 94/100\n",
      "142/142 - 0s - loss: 0.0040\n",
      "Epoch 95/100\n",
      "142/142 - 0s - loss: 0.0042\n",
      "Epoch 96/100\n",
      "142/142 - 0s - loss: 0.0041\n",
      "Epoch 97/100\n",
      "142/142 - 0s - loss: 0.0041\n",
      "Epoch 98/100\n",
      "142/142 - 0s - loss: 0.0042\n",
      "Epoch 99/100\n",
      "142/142 - 0s - loss: 0.0041\n",
      "Epoch 100/100\n",
      "142/142 - 0s - loss: 0.0040\n"
     ]
    },
    {
     "data": {
      "text/plain": [
       "<tensorflow.python.keras.callbacks.History at 0x2354f882d68>"
      ]
     },
     "execution_count": 28,
     "metadata": {},
     "output_type": "execute_result"
    }
   ],
   "source": [
    "# create and fit the LSTM network\r\n",
    "lb =1\r\n",
    "model = Sequential()\r\n",
    "model.add(LSTM(4, input_shape=(1, lb)))\r\n",
    "model.add(Dense(1))\r\n",
    "model.compile(loss='mean_squared_error', optimizer='adam')\r\n",
    "model.fit(train_x, train_y, epochs=100, batch_size=1, verbose=2)"
   ]
  },
  {
   "cell_type": "code",
   "execution_count": 29,
   "metadata": {},
   "outputs": [],
   "source": [
    "# make predictions\r\n",
    "train_Predict = model.predict(train_x)\r\n",
    "test_Predict = model.predict(test_x)"
   ]
  },
  {
   "cell_type": "code",
   "execution_count": null,
   "metadata": {},
   "outputs": [],
   "source": [
    "# invert predictions\r\n",
    "trainPredict = scaler.inverse_transform(trainPredict)\r\n",
    "trainY = scaler.inverse_transform([trainY])\r\n",
    "testPredict = scaler.inverse_transform(testPredict)\r\n",
    "testY = scaler.inverse_transform([testY])\r\n",
    "# calculate root mean squared error\r\n",
    "trainScore = math.sqrt(mean_squared_error(trainY[0], trainPredict[:,0]))\r\n",
    "testScore = math.sqrt(mean_squared_error(testY[0], testPredict[:,0]))\r\n",
    "\r\n",
    "# shift train predictions for plotting\r\n",
    "trainPredictPlot = numpy.empty_like(dataset)\r\n",
    "trainPredictPlot[:, :] = numpy.nan\r\n",
    "trainPredictPlot[look_back:len(trainPredict)+look_back, :] = trainPredict\r\n",
    "# shift test predictions for plotting\r\n",
    "testPredictPlot = numpy.empty_like(dataset)\r\n",
    "testPredictPlot[:, :] = numpy.nan\r\n",
    "testPredictPlot[len(trainPredict)+(look_back*2)+1:len(dataset)-1, :] = testPredict\r\n",
    "# plot baseline and predictions\r\n",
    "plt.plot(scaler.inverse_transform(dataset))\r\n",
    "plt.plot(trainPredictPlot)\r\n",
    "plt.plot(testPredictPlot)\r\n",
    "plt.show()"
   ]
  }
 ],
 "metadata": {
  "interpreter": {
   "hash": "ecb7381559138e51a33593dc777552916b928bdcfe8ead0ccdfaf5910052deb6"
  },
  "kernelspec": {
   "display_name": "Python 3.6.12 64-bit ('fidrox': conda)",
   "name": "python3"
  },
  "language_info": {
   "codemirror_mode": {
    "name": "ipython",
    "version": 3
   },
   "file_extension": ".py",
   "mimetype": "text/x-python",
   "name": "python",
   "nbconvert_exporter": "python",
   "pygments_lexer": "ipython3",
   "version": "3.6.12"
  },
  "orig_nbformat": 4
 },
 "nbformat": 4,
 "nbformat_minor": 2
}